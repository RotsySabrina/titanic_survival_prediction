{
 "cells": [
  {
   "cell_type": "markdown",
   "id": "2245e29c",
   "metadata": {},
   "source": [
    "🎯 Objectif\n",
    " Construire, visualiser, évaluer et comparer un Arbre de Décision et une Random Forest à partir du dataset\n",
    " Titanic."
   ]
  },
  {
   "cell_type": "markdown",
   "id": "5325b0c2",
   "metadata": {},
   "source": [
    " 🔹 Partie 1 – Chargement & Exploration"
   ]
  },
  {
   "cell_type": "code",
   "execution_count": 35,
   "id": "22e7ee2d",
   "metadata": {},
   "outputs": [
    {
     "name": "stdout",
     "output_type": "stream",
     "text": [
      "   PassengerId  Survived  Pclass  \\\n",
      "0            1         0       3   \n",
      "1            2         1       1   \n",
      "2            3         1       3   \n",
      "3            4         1       1   \n",
      "4            5         0       3   \n",
      "\n",
      "                                                Name     Sex   Age  SibSp  \\\n",
      "0                            Braund, Mr. Owen Harris    male  22.0      1   \n",
      "1  Cumings, Mrs. John Bradley (Florence Briggs Th...  female  38.0      1   \n",
      "2                             Heikkinen, Miss. Laina  female  26.0      0   \n",
      "3       Futrelle, Mrs. Jacques Heath (Lily May Peel)  female  35.0      1   \n",
      "4                           Allen, Mr. William Henry    male  35.0      0   \n",
      "\n",
      "   Parch            Ticket     Fare Cabin Embarked  \n",
      "0      0         A/5 21171   7.2500   NaN        S  \n",
      "1      0          PC 17599  71.2833   C85        C  \n",
      "2      0  STON/O2. 3101282   7.9250   NaN        S  \n",
      "3      0            113803  53.1000  C123        S  \n",
      "4      0            373450   8.0500   NaN        S  \n",
      "\n",
      "Types données:\n",
      "PassengerId      int64\n",
      "Survived         int64\n",
      "Pclass           int64\n",
      "Name            object\n",
      "Sex             object\n",
      "Age            float64\n",
      "SibSp            int64\n",
      "Parch            int64\n",
      "Ticket          object\n",
      "Fare           float64\n",
      "Cabin           object\n",
      "Embarked        object\n",
      "dtype: object\n"
     ]
    }
   ],
   "source": [
    "import pandas as pd\n",
    "\n",
    "df = pd.read_csv('Titanic-Dataset.csv')\n",
    "print(df.head(5))\n",
    "\n",
    "print(\"\\nTypes données:\")\n",
    "print(df.dtypes)\n",
    "#df.info()"
   ]
  },
  {
   "cell_type": "code",
   "execution_count": 34,
   "id": "8e6913a3",
   "metadata": {},
   "outputs": [
    {
     "name": "stdout",
     "output_type": "stream",
     "text": [
      "nb survivants : 342 \n",
      "nb total passagers : 891 \n",
      "Proportion de survivants : 38.38%\n"
     ]
    }
   ],
   "source": [
    "total_passagers = len(df)\n",
    "nb_survivants = df['Survived'].sum()\n",
    "proportion_survivants = nb_survivants/total_passagers *100\n",
    "print(f\"nb survivants : {nb_survivants} \\nnb total passagers : {total_passagers} \\nProportion de survivants : {proportion_survivants:.2f}%\")"
   ]
  },
  {
   "cell_type": "code",
   "execution_count": 30,
   "id": "42a10b3e",
   "metadata": {},
   "outputs": [
    {
     "name": "stdout",
     "output_type": "stream",
     "text": [
      "          nb_val_manquante          %\n",
      "Age                    177  19.865320\n",
      "Cabin                  687  77.104377\n",
      "Embarked                 2   0.224467\n"
     ]
    }
   ],
   "source": [
    "nb_val_manquante = df.isnull().sum()\n",
    "pourcentages = (nb_val_manquante / total_passagers) * 100\n",
    "manquantes = pd.DataFrame({\n",
    "    'nb_val_manquante': nb_val_manquante,\n",
    "    '%': pourcentages\n",
    "})\n",
    "manquantes = manquantes[manquantes['nb_val_manquante']>0]\n",
    "print(manquantes)"
   ]
  },
  {
   "cell_type": "markdown",
   "id": "d35d9a80",
   "metadata": {},
   "source": [
    "� Partie 2 – Nettoyage & Préparation"
   ]
  },
  {
   "cell_type": "code",
   "execution_count": 44,
   "id": "60fe71e5",
   "metadata": {},
   "outputs": [
    {
     "name": "stdout",
     "output_type": "stream",
     "text": [
      "PassengerId      0\n",
      "Survived         0\n",
      "Pclass           0\n",
      "Name             0\n",
      "Sex              0\n",
      "Age              0\n",
      "SibSp            0\n",
      "Parch            0\n",
      "Ticket           0\n",
      "Fare             0\n",
      "Cabin          687\n",
      "Embarked         0\n",
      "dtype: int64\n"
     ]
    }
   ],
   "source": [
    "age_median = df['Age'].median()\n",
    "df['Age'].fillna(age_median)\n",
    "\n",
    "most_frequent_embarked = df['Embarked'].mode()[0]\n",
    "df['Embarked'].fillna(most_frequent_embarked)\n",
    "\n",
    "print(df.isnull().sum())\n"
   ]
  },
  {
   "cell_type": "code",
   "execution_count": null,
   "id": "f431f1be",
   "metadata": {},
   "outputs": [],
   "source": [
    "df.drop(['PassengerId','Name','Ticket','Cabin'], axis=1, inplace=True)"
   ]
  },
  {
   "cell_type": "markdown",
   "id": "62238edc",
   "metadata": {},
   "source": [
    "PassengerId :\n",
    "→ C’est juste un identifiant unique. Il n’a aucun lien avec la survie ou d’autres caractéristiques utiles pour l’analyse ou la prédiction.\n",
    "Name :\n",
    "→ Trop spécifique. Chaque nom est unique ou presque, donc il n’apporte pas directement de valeur en l'état.\n",
    "Ticket :\n",
    "→ Numéro très hétérogène, souvent non structuré. Pas vraiment utile sans traitement spécifique.\n",
    "Cabin :\n",
    "→ Contient trop de valeurs manquantes (beaucoup de NaN), donc difficile à exploiter efficacement.\n"
   ]
  },
  {
   "cell_type": "code",
   "execution_count": 53,
   "id": "d20bab51",
   "metadata": {},
   "outputs": [
    {
     "name": "stdout",
     "output_type": "stream",
     "text": [
      "['Mr' 'Mrs' 'Miss' 'Master' 'Don' 'Rev' 'Dr' 'Mme' 'Ms' 'Major' 'Lady'\n",
      " 'Sir' 'Mlle' 'Col' 'Capt' 'Countess' 'Jonkheer']\n"
     ]
    }
   ],
   "source": [
    "df_original = pd.read_csv('Titanic-Dataset.csv')\n",
    "df['Title'] = df_original['Name'].str.extract(r'([A-Za-z]+)\\.', expand=False)\n",
    "print(df['Title'].unique())\n"
   ]
  },
  {
   "cell_type": "markdown",
   "id": "a264a21e",
   "metadata": {},
   "source": [
    "🎯 Est-ce que Title est informatif ?\n",
    "Oui ✅ ! Parce qu’il résume le statut social, l’âge ou le genre :\n",
    "\n",
    "Master → jeune garçon\n",
    "\n",
    "Miss, Mrs → femme (célibataire/mariée)\n",
    "\n",
    "Dr, Rev, Col, etc. → statuts sociaux plus rares\n",
    "\n",
    "Il peut aussi refléter des inégalités face à la survie"
   ]
  },
  {
   "cell_type": "code",
   "execution_count": 56,
   "id": "79261d8e",
   "metadata": {},
   "outputs": [
    {
     "name": "stdout",
     "output_type": "stream",
     "text": [
      "Title\n",
      "Mr          517\n",
      "Miss        182\n",
      "Mrs         125\n",
      "Master       40\n",
      "Dr            7\n",
      "Rev           6\n",
      "Col           2\n",
      "Mlle          2\n",
      "Major         2\n",
      "Ms            1\n",
      "Mme           1\n",
      "Don           1\n",
      "Lady          1\n",
      "Sir           1\n",
      "Capt          1\n",
      "Countess      1\n",
      "Jonkheer      1\n",
      "Name: count, dtype: int64\n"
     ]
    },
    {
     "data": {
      "image/png": "[encoded data removed]",
      "text/plain": [
       "<Figure size 1000x500 with 1 Axes>"
      ]
     },
     "metadata": {},
     "output_type": "display_data"
    }
   ],
   "source": [
    "import matplotlib.pyplot as plt\n",
    "import seaborn as sns\n",
    "\n",
    "print(df['Title'].value_counts())\n",
    "\n",
    "plt.figure(figsize=(10, 5))\n",
    "sns.countplot(data=df, x='Title', order=df['Title'].value_counts().index)\n",
    "plt.title(\"Distribution des titres\")\n",
    "plt.xticks(rotation=45)\n",
    "plt.show()\n"
   ]
  },
  {
   "cell_type": "markdown",
   "id": "dd942537",
   "metadata": {},
   "source": [
    "🎯 Pourquoi regrouper/fusionner certains titres ?\n",
    "Certains titres sont très rares : ex. 'Countess', 'Jonkheer', 'Don', etc. → leur fréquence est trop faible pour apprendre quelque chose de fiable.\n",
    "\n",
    "Certains titres veulent dire la même chose :\n",
    "\n",
    "'Mme' est équivalent à 'Mrs'\n",
    "\n",
    "'Mlle' et 'Ms' sont proches de 'Miss'\n",
    "\n",
    "'Dr', 'Rev', 'Major', 'Col', 'Capt', 'Sir', 'Lady' peuvent être regroupés comme \"Rare\""
   ]
  },
  {
   "cell_type": "code",
   "execution_count": 57,
   "id": "8cad455e",
   "metadata": {},
   "outputs": [
    {
     "name": "stdout",
     "output_type": "stream",
     "text": [
      "Title\n",
      "Mr        517\n",
      "Miss      185\n",
      "Mrs       126\n",
      "Master     40\n",
      "Rare       23\n",
      "Name: count, dtype: int64\n"
     ]
    }
   ],
   "source": [
    "df['Title'] = df['Title'].replace({\n",
    "    'Mlle': 'Miss',\n",
    "    'Ms': 'Miss',\n",
    "    'Mme': 'Mrs',\n",
    "    'Dr': 'Rare',\n",
    "    'Rev': 'Rare',\n",
    "    'Major': 'Rare',\n",
    "    'Col': 'Rare',\n",
    "    'Capt': 'Rare',\n",
    "    'Sir': 'Rare',\n",
    "    'Lady': 'Rare',\n",
    "    'Don': 'Rare',\n",
    "    'Countess': 'Rare',\n",
    "    'Jonkheer': 'Rare'\n",
    "})\n",
    "\n",
    "print(df['Title'].value_counts())\n"
   ]
  },
  {
   "cell_type": "code",
   "execution_count": 58,
   "id": "7ffcd1a9",
   "metadata": {},
   "outputs": [
    {
     "data": {
      "image/png": "[encoded data removed]",
      "text/plain": [
       "<Figure size 1000x500 with 1 Axes>"
      ]
     },
     "metadata": {},
     "output_type": "display_data"
    }
   ],
   "source": [
    "plt.figure(figsize=(10, 5))\n",
    "sns.countplot(data=df, x='Title', order=df['Title'].value_counts().index)\n",
    "plt.title(\"Distribution des titres\")\n",
    "plt.xticks(rotation=45)\n",
    "plt.show()"
   ]
  },
  {
   "cell_type": "markdown",
   "id": "8014b81a",
   "metadata": {},
   "source": [
    " 🔹 Partie 3 – Encodage & Prétraitement"
   ]
  },
  {
   "cell_type": "code",
   "execution_count": 61,
   "id": "f48da72b",
   "metadata": {},
   "outputs": [
    {
     "data": {
      "text/plain": [
       "array(['Mr', 'Mrs', 'Miss', 'Master', 'Rare'], dtype=object)"
      ]
     },
     "execution_count": 61,
     "metadata": {},
     "output_type": "execute_result"
    }
   ],
   "source": [
    "df['Sex'].unique()\n",
    "df['Embarked'].unique()\n",
    "df['Title'].unique()\n",
    "\n"
   ]
  },
  {
   "cell_type": "code",
   "execution_count": null,
   "id": "d9a54fb3",
   "metadata": {},
   "outputs": [
    {
     "data": {
      "text/html": [
       "<div>\n",
       "<style scoped>\n",
       "    .dataframe tbody tr th:only-of-type {\n",
       "        vertical-align: middle;\n",
       "    }\n",
       "\n",
       "    .dataframe tbody tr th {\n",
       "        vertical-align: top;\n",
       "    }\n",
       "\n",
       "    .dataframe thead th {\n",
       "        text-align: right;\n",
       "    }\n",
       "</style>\n",
       "<table border=\"1\" class=\"dataframe\">\n",
       "  <thead>\n",
       "    <tr style=\"text-align: right;\">\n",
       "      <th></th>\n",
       "      <th>Survived</th>\n",
       "      <th>Pclass</th>\n",
       "      <th>Sex</th>\n",
       "      <th>Age</th>\n",
       "      <th>SibSp</th>\n",
       "      <th>Parch</th>\n",
       "      <th>Fare</th>\n",
       "      <th>Embarked_Q</th>\n",
       "      <th>Embarked_S</th>\n",
       "      <th>Title_Miss</th>\n",
       "      <th>Title_Mr</th>\n",
       "      <th>Title_Mrs</th>\n",
       "      <th>Title_Rare</th>\n",
       "    </tr>\n",
       "  </thead>\n",
       "  <tbody>\n",
       "    <tr>\n",
       "      <th>0</th>\n",
       "      <td>0</td>\n",
       "      <td>3</td>\n",
       "      <td>1</td>\n",
       "      <td>22.0</td>\n",
       "      <td>1</td>\n",
       "      <td>0</td>\n",
       "      <td>7.2500</td>\n",
       "      <td>0</td>\n",
       "      <td>1</td>\n",
       "      <td>0</td>\n",
       "      <td>1</td>\n",
       "      <td>0</td>\n",
       "      <td>0</td>\n",
       "    </tr>\n",
       "    <tr>\n",
       "      <th>1</th>\n",
       "      <td>1</td>\n",
       "      <td>1</td>\n",
       "      <td>0</td>\n",
       "      <td>38.0</td>\n",
       "      <td>1</td>\n",
       "      <td>0</td>\n",
       "      <td>71.2833</td>\n",
       "      <td>0</td>\n",
       "      <td>0</td>\n",
       "      <td>0</td>\n",
       "      <td>0</td>\n",
       "      <td>1</td>\n",
       "      <td>0</td>\n",
       "    </tr>\n",
       "    <tr>\n",
       "      <th>2</th>\n",
       "      <td>1</td>\n",
       "      <td>3</td>\n",
       "      <td>0</td>\n",
       "      <td>26.0</td>\n",
       "      <td>0</td>\n",
       "      <td>0</td>\n",
       "      <td>7.9250</td>\n",
       "      <td>0</td>\n",
       "      <td>1</td>\n",
       "      <td>1</td>\n",
       "      <td>0</td>\n",
       "      <td>0</td>\n",
       "      <td>0</td>\n",
       "    </tr>\n",
       "    <tr>\n",
       "      <th>3</th>\n",
       "      <td>1</td>\n",
       "      <td>1</td>\n",
       "      <td>0</td>\n",
       "      <td>35.0</td>\n",
       "      <td>1</td>\n",
       "      <td>0</td>\n",
       "      <td>53.1000</td>\n",
       "      <td>0</td>\n",
       "      <td>1</td>\n",
       "      <td>0</td>\n",
       "      <td>0</td>\n",
       "      <td>1</td>\n",
       "      <td>0</td>\n",
       "    </tr>\n",
       "    <tr>\n",
       "      <th>4</th>\n",
       "      <td>0</td>\n",
       "      <td>3</td>\n",
       "      <td>1</td>\n",
       "      <td>35.0</td>\n",
       "      <td>0</td>\n",
       "      <td>0</td>\n",
       "      <td>8.0500</td>\n",
       "      <td>0</td>\n",
       "      <td>1</td>\n",
       "      <td>0</td>\n",
       "      <td>1</td>\n",
       "      <td>0</td>\n",
       "      <td>0</td>\n",
       "    </tr>\n",
       "  </tbody>\n",
       "</table>\n",
       "</div>"
      ],
      "text/plain": [
       "   Survived  Pclass  Sex   Age  SibSp  Parch     Fare  Embarked_Q  Embarked_S  \\\n",
       "0         0       3    1  22.0      1      0   7.2500           0           1   \n",
       "1         1       1    0  38.0      1      0  71.2833           0           0   \n",
       "2         1       3    0  26.0      0      0   7.9250           0           1   \n",
       "3         1       1    0  35.0      1      0  53.1000           0           1   \n",
       "4         0       3    1  35.0      0      0   8.0500           0           1   \n",
       "\n",
       "   Title_Miss  Title_Mr  Title_Mrs  Title_Rare  \n",
       "0           0         1          0           0  \n",
       "1           0         0          1           0  \n",
       "2           1         0          0           0  \n",
       "3           0         0          1           0  \n",
       "4           0         1          0           0  "
      ]
     },
     "execution_count": 73,
     "metadata": {},
     "output_type": "execute_result"
    }
   ],
   "source": [
    "# Label Encoding pour Sex\n",
    "from sklearn.preprocessing import LabelEncoder\n",
    "\n",
    "le_sex = LabelEncoder()\n",
    "df['Sex'] = le_sex.fit_transform(df['Sex'])\n",
    "\n",
    "# OneHot Encoding pour Embarked et Title\n",
    "df = pd.get_dummies(df, columns=['Embarked', 'Title'], drop_first=True)\n",
    "\n",
    "# Convertir les colonnes booléennes en int\n",
    "bool_cols = df.select_dtypes(include='bool').columns\n",
    "df[bool_cols] = df[bool_cols].astype(int)\n",
    "\n",
    "df.head()\n",
    "#df.dtypes\n",
    "\n"
   ]
  },
  {
   "cell_type": "markdown",
   "id": "9aa6ebc5",
   "metadata": {},
   "source": [
    "STANDARDISATION:\n",
    "Pourquoi faire ça ?\n",
    "Même si les arbres de décision et Random Forests ne sont pas sensibles à l’échelle des variables (car ils ne font pas de calculs de distance), il peut être utile de standardiser dans certains cas :\n",
    "\n",
    "✅ Raisons de standardiser :\n",
    "Comparer les variables ou les visualiser sur la même échelle.\n",
    "\n",
    "Travailler avec d'autres modèles plus tard (comme KNN, SVM, Régression...), qui eux sont sensibles à l’échelle.\n",
    "\n",
    "Optimiser l’apprentissage dans des pipelines contenant des étapes combinées (ex : PCA, clustering...).\n",
    "\n",
    "Certaines implémentations (ex : avec sklearn) fonctionnent mieux ou plus vite si les données sont centrées."
   ]
  },
  {
   "cell_type": "code",
   "execution_count": null,
   "id": "e36d6210",
   "metadata": {},
   "outputs": [
    {
     "data": {
      "image/png": "[encoded data removed]",
      "text/plain": [
       "<Figure size 1200x500 with 2 Axes>"
      ]
     },
     "metadata": {},
     "output_type": "display_data"
    },
    {
     "data": {
      "image/png": "[encoded data removed]",
      "text/plain": [
       "<Figure size 1200x500 with 2 Axes>"
      ]
     },
     "metadata": {},
     "output_type": "display_data"
    }
   ],
   "source": [
    "from sklearn.preprocessing import StandardScaler\n",
    "import matplotlib.pyplot as plt\n",
    "\n",
    "age_original = df['Age'].copy()\n",
    "fare_original = df['Fare'].copy()\n",
    "\n",
    "scaler = StandardScaler()\n",
    "df[['Age', 'Fare']] = scaler.fit_transform(df[['Age', 'Fare']])\n",
    "\n",
    "# plt.figure(figsize=(12, 5))\n",
    "\n",
    "# plt.subplot(1, 2, 1)\n",
    "# plt.hist(age_original, bins=30, color='skyblue', edgecolor='black')\n",
    "# plt.title('Âge - Avant Standardisation')\n",
    "# plt.xlabel('Âge')\n",
    "# plt.ylabel('Nombre de passagers')\n",
    "\n",
    "# plt.subplot(1, 2, 2)\n",
    "# plt.hist(df['Age'], bins=30, color='orange', edgecolor='black')\n",
    "# plt.title('Âge - Après Standardisation')\n",
    "# plt.xlabel('Âge standardisé')\n",
    "\n",
    "# plt.tight_layout()\n",
    "# plt.show()\n",
    "\n",
    "# # pour Fare\n",
    "# plt.figure(figsize=(12, 5))\n",
    "\n",
    "# plt.subplot(1, 2, 1)\n",
    "# plt.hist(fare_original, bins=30, color='lightgreen', edgecolor='black')\n",
    "# plt.title('Tarif (Fare) - Avant Standardisation')\n",
    "# plt.xlabel('Tarif')\n",
    "# plt.ylabel('Nombre de passagers')\n",
    "\n",
    "# plt.subplot(1, 2, 2)\n",
    "# plt.hist(df['Fare'], bins=30, color='salmon', edgecolor='black')\n",
    "# plt.title('Tarif (Fare) - Après Standardisation')\n",
    "# plt.xlabel('Tarif standardisé')\n",
    "\n",
    "# plt.tight_layout()\n",
    "# plt.show()"
   ]
  },
  {
   "cell_type": "markdown",
   "id": "d92e36a7",
   "metadata": {},
   "source": [
    "🔹 Étape 9 – Division en X et y"
   ]
  },
  {
   "cell_type": "code",
   "execution_count": null,
   "id": "acedd962",
   "metadata": {},
   "outputs": [
    {
     "name": "stdout",
     "output_type": "stream",
     "text": [
      "['Pclass', 'Sex', 'Age', 'SibSp', 'Parch', 'Fare', 'Embarked_Q', 'Embarked_S', 'Title_Miss', 'Title_Mr', 'Title_Mrs', 'Title_Rare']\n"
     ]
    }
   ],
   "source": [
    "from sklearn.model_selection import train_test_split\n",
    "\n",
    "#print(df.head())\n",
    "X = df.drop('Survived', axis=1)\n",
    "y = df['Survived']\n",
    "\n",
    "X_train, X_test, y_train, y_test = train_test_split(X, y, test_size=0.3, random_state=42)\n",
    "\n",
    "# trained_columns = X_train.columns.tolist()\n",
    "# print(trained_columns)\n"
   ]
  },
  {
   "cell_type": "code",
   "execution_count": null,
   "id": "8aad513a",
   "metadata": {},
   "outputs": [],
   "source": []
  }
 ],
 "metadata": {
  "kernelspec": {
   "display_name": "Python (env)",
   "language": "python",
   "name": "env"
  },
  "language_info": {
   "codemirror_mode": {
    "name": "ipython",
    "version": 3
   },
   "file_extension": ".py",
   "mimetype": "text/x-python",
   "name": "python",
   "nbconvert_exporter": "python",
   "pygments_lexer": "ipython3",
   "version": "3.13.2"
  }
 },
 "nbformat": 4,
 "nbformat_minor": 5
}

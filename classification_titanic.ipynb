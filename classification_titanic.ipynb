{
 "cells": [
  {
   "cell_type": "markdown",
   "id": "2245e29c",
   "metadata": {},
   "source": [
    "🎯 Objectif\n",
    " Construire, visualiser, évaluer et comparer un Arbre de Décision et une Random Forest à partir du dataset\n",
    " Titanic."
   ]
  },
  {
   "cell_type": "markdown",
   "id": "5325b0c2",
   "metadata": {},
   "source": [
    " 🔹 Partie 1 – Chargement & Exploration"
   ]
  },
  {
   "cell_type": "code",
   "execution_count": 35,
   "id": "22e7ee2d",
   "metadata": {},
   "outputs": [
    {
     "name": "stdout",
     "output_type": "stream",
     "text": [
      "   PassengerId  Survived  Pclass  \\\n",
      "0            1         0       3   \n",
      "1            2         1       1   \n",
      "2            3         1       3   \n",
      "3            4         1       1   \n",
      "4            5         0       3   \n",
      "\n",
      "                                                Name     Sex   Age  SibSp  \\\n",
      "0                            Braund, Mr. Owen Harris    male  22.0      1   \n",
      "1  Cumings, Mrs. John Bradley (Florence Briggs Th...  female  38.0      1   \n",
      "2                             Heikkinen, Miss. Laina  female  26.0      0   \n",
      "3       Futrelle, Mrs. Jacques Heath (Lily May Peel)  female  35.0      1   \n",
      "4                           Allen, Mr. William Henry    male  35.0      0   \n",
      "\n",
      "   Parch            Ticket     Fare Cabin Embarked  \n",
      "0      0         A/5 21171   7.2500   NaN        S  \n",
      "1      0          PC 17599  71.2833   C85        C  \n",
      "2      0  STON/O2. 3101282   7.9250   NaN        S  \n",
      "3      0            113803  53.1000  C123        S  \n",
      "4      0            373450   8.0500   NaN        S  \n",
      "\n",
      "Types données:\n",
      "PassengerId      int64\n",
      "Survived         int64\n",
      "Pclass           int64\n",
      "Name            object\n",
      "Sex             object\n",
      "Age            float64\n",
      "SibSp            int64\n",
      "Parch            int64\n",
      "Ticket          object\n",
      "Fare           float64\n",
      "Cabin           object\n",
      "Embarked        object\n",
      "dtype: object\n"
     ]
    }
   ],
   "source": [
    "import pandas as pd\n",
    "\n",
    "df = pd.read_csv('Titanic-Dataset.csv')\n",
    "print(df.head(5))\n",
    "\n",
    "print(\"\\nTypes données:\")\n",
    "print(df.dtypes)\n",
    "#df.info()"
   ]
  },
  {
   "cell_type": "code",
   "execution_count": 34,
   "id": "8e6913a3",
   "metadata": {},
   "outputs": [
    {
     "name": "stdout",
     "output_type": "stream",
     "text": [
      "nb survivants : 342 \n",
      "nb total passagers : 891 \n",
      "Proportion de survivants : 38.38%\n"
     ]
    }
   ],
   "source": [
    "total_passagers = len(df)\n",
    "nb_survivants = df['Survived'].sum()\n",
    "proportion_survivants = nb_survivants/total_passagers *100\n",
    "print(f\"nb survivants : {nb_survivants} \\nnb total passagers : {total_passagers} \\nProportion de survivants : {proportion_survivants:.2f}%\")"
   ]
  },
  {
   "cell_type": "code",
   "execution_count": null,
   "id": "42a10b3e",
   "metadata": {},
   "outputs": [
    {
     "name": "stdout",
     "output_type": "stream",
     "text": [
      "          nb_val_manquante          %\n",
      "Age                    177  19.865320\n",
      "Cabin                  687  77.104377\n",
      "Embarked                 2   0.224467\n"
     ]
    }
   ],
   "source": [
    "nb_val_manquante = df.isnull().sum()\n",
    "pourcentages = (nb_val_manquante / total_passagers) * 100\n",
    "manquantes = pd.DataFrame({\n",
    "    'nb_val_manquante': nb_val_manquante,\n",
    "    '%': pourcentages\n",
    "})\n",
    "manquantes = manquantes[manquantes['nb_val_manquante']>0]\n",
    "print(manquantes)"
   ]
  },
  {
   "cell_type": "markdown",
   "id": "d35d9a80",
   "metadata": {},
   "source": []
  },
  {
   "cell_type": "code",
   "execution_count": null,
   "id": "60fe71e5",
   "metadata": {},
   "outputs": [],
   "source": []
  }
 ],
 "metadata": {
  "kernelspec": {
   "display_name": "Python (env)",
   "language": "python",
   "name": "env"
  },
  "language_info": {
   "codemirror_mode": {
    "name": "ipython",
    "version": 3
   },
   "file_extension": ".py",
   "mimetype": "text/x-python",
   "name": "python",
   "nbconvert_exporter": "python",
   "pygments_lexer": "ipython3",
   "version": "3.13.2"
  }
 },
 "nbformat": 4,
 "nbformat_minor": 5
}
